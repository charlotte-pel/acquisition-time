{
 "cells": [
  {
   "cell_type": "code",
   "execution_count": 1,
   "metadata": {},
   "outputs": [],
   "source": [
    "import os, sys\n",
    "\n",
    "import drawtool as dt #-- implemented\n",
    "\n",
    "import numpy as np\n",
    "import pandas as pd\n",
    "\n",
    "import matplotlib.pyplot as plt\n",
    "%matplotlib inline"
   ]
  },
  {
   "cell_type": "code",
   "execution_count": 2,
   "metadata": {},
   "outputs": [],
   "source": [
    "date_path = \"./date_files/\"\n",
    "tile_names = [\"T30TVT\", \"T30TWT\", \"T30UVU\"]\n",
    "\n",
    "STARTDATE = \"20170101\"\n",
    "\n",
    "interp_doy = list(range(1,365,10)) #-- simulation of interpolated doy [could be read from a file: `dt.read_datefile(interpdatefile, start_date=STARTDATE)`\n",
    "\n",
    "save1_file = './fig/example1.png' #-- folder dir should exists\n",
    "save2_file = './fig/example2.png' #-- folder dir should exists"
   ]
  },
  {
   "cell_type": "code",
   "execution_count": 3,
   "metadata": {},
   "outputs": [],
   "source": [
    "#-- Reading the doy for all the files\n",
    "tile_doy = []\n",
    "for t in tile_names:\n",
    "    datefile = date_path + \"original_dates_\" + t + \".txt\"\n",
    "    tile_doy.append(dt.read_datefile(datefile, start_date=STARTDATE))\n",
    "#print(tile_doy)"
   ]
  },
  {
   "cell_type": "code",
   "execution_count": 4,
   "metadata": {},
   "outputs": [
    {
     "ename": "NameError",
     "evalue": "name 'pdfsave1_file' is not defined",
     "output_type": "error",
     "traceback": [
      "\u001b[0;31m---------------------------------------------------------------------------\u001b[0m",
      "\u001b[0;31mNameError\u001b[0m                                 Traceback (most recent call last)",
      "\u001b[0;32m<ipython-input-4-4158318cf016>\u001b[0m in \u001b[0;36m<module>\u001b[0;34m\u001b[0m\n\u001b[1;32m      1\u001b[0m \u001b[0;31m#-- Single tile (withouth saving)\u001b[0m\u001b[0;34m\u001b[0m\u001b[0;34m\u001b[0m\u001b[0;34m\u001b[0m\u001b[0m\n\u001b[0;32m----> 2\u001b[0;31m \u001b[0mdt\u001b[0m\u001b[0;34m.\u001b[0m\u001b[0mdraw_timeline\u001b[0m\u001b[0;34m(\u001b[0m\u001b[0mtile_doy\u001b[0m\u001b[0;34m[\u001b[0m\u001b[0;36m0\u001b[0m\u001b[0;34m]\u001b[0m\u001b[0;34m,\u001b[0m\u001b[0mpdfsave_file\u001b[0m\u001b[0;34m=\u001b[0m\u001b[0mpdfsave1_file\u001b[0m\u001b[0;34m)\u001b[0m\u001b[0;34m\u001b[0m\u001b[0;34m\u001b[0m\u001b[0m\n\u001b[0m\u001b[1;32m      3\u001b[0m \u001b[0;31m#-- Multiple tiles (with a saved pdf)\u001b[0m\u001b[0;34m\u001b[0m\u001b[0;34m\u001b[0m\u001b[0;34m\u001b[0m\u001b[0m\n\u001b[1;32m      4\u001b[0m \u001b[0mdt\u001b[0m\u001b[0;34m.\u001b[0m\u001b[0mdraw_timeline\u001b[0m\u001b[0;34m(\u001b[0m\u001b[0mtile_doy\u001b[0m\u001b[0;34m,\u001b[0m \u001b[0mtile_names\u001b[0m\u001b[0;34m=\u001b[0m\u001b[0mtile_names\u001b[0m\u001b[0;34m,\u001b[0m \u001b[0minterp_doy\u001b[0m\u001b[0;34m=\u001b[0m\u001b[0minterp_doy\u001b[0m\u001b[0;34m,\u001b[0m \u001b[0mpdfsave_file\u001b[0m\u001b[0;34m=\u001b[0m\u001b[0mpdfsave2_file\u001b[0m\u001b[0;34m)\u001b[0m\u001b[0;34m\u001b[0m\u001b[0;34m\u001b[0m\u001b[0m\n",
      "\u001b[0;31mNameError\u001b[0m: name 'pdfsave1_file' is not defined"
     ]
    }
   ],
   "source": [
    "#-- Single tile (withouth saving)\n",
    "dt.draw_timeline(tile_doy[0],pdfsave_file=save1_file)\n",
    "#-- Multiple tiles (with a saved pdf)\n",
    "dt.draw_timeline(tile_doy, tile_names=tile_names, interp_doy=interp_doy, pdfsave_file=save2_file)"
   ]
  }
 ],
 "metadata": {
  "kernelspec": {
   "display_name": "Python 3",
   "language": "python",
   "name": "python3"
  },
  "language_info": {
   "codemirror_mode": {
    "name": "ipython",
    "version": 3
   },
   "file_extension": ".py",
   "mimetype": "text/x-python",
   "name": "python",
   "nbconvert_exporter": "python",
   "pygments_lexer": "ipython3",
   "version": "3.7.4"
  }
 },
 "nbformat": 4,
 "nbformat_minor": 4
}
